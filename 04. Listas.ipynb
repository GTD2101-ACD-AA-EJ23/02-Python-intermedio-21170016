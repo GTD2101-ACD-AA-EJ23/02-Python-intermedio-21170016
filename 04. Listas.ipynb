{
  "cells": [
    {
      "cell_type": "markdown",
      "metadata": {
        "id": "view-in-github",
        "colab_type": "text"
      },
      "source": [
        "<a href=\"https://colab.research.google.com/github/GTD2101-ACD-AA-EJ23/02-Python-intermedio-21170016/blob/main/04.%20Listas.ipynb\" target=\"_parent\"><img src=\"https://colab.research.google.com/assets/colab-badge.svg\" alt=\"Open In Colab\"/></a>"
      ]
    },
    {
      "cell_type": "markdown",
      "metadata": {
        "id": "Okz_Ua5KnF4w"
      },
      "source": [
        "# Listas\n",
        "\n",
        "En este JNB se revisará el tema de Listas"
      ]
    },
    {
      "cell_type": "code",
      "execution_count": 2,
      "metadata": {
        "id": "O8NoTzxjs2wK"
      },
      "outputs": [],
      "source": [
        "primes = [2, 3, 5, 7]"
      ]
    },
    {
      "cell_type": "code",
      "source": [
        "primes"
      ],
      "metadata": {
        "id": "RnSku-aGnRGH",
        "outputId": "15395e30-e4fe-4e9d-e7e8-1eb739bfed51",
        "colab": {
          "base_uri": "https://localhost:8080/"
        }
      },
      "execution_count": 3,
      "outputs": [
        {
          "output_type": "execute_result",
          "data": {
            "text/plain": [
              "[2, 3, 5, 7]"
            ]
          },
          "metadata": {},
          "execution_count": 3
        }
      ]
    },
    {
      "cell_type": "code",
      "source": [
        "planets = ['Mercury', 'Venus', 'Earth', 'Mars', 'Jupiter', 'Saturn', 'Uranus', 'Neptune']"
      ],
      "metadata": {
        "id": "g-upPJ1qnYKi"
      },
      "execution_count": 4,
      "outputs": []
    },
    {
      "cell_type": "code",
      "source": [
        "planets"
      ],
      "metadata": {
        "id": "3YW2OM3ynauQ",
        "outputId": "4f3ebb97-d865-4a1e-d687-c302a05243d8",
        "colab": {
          "base_uri": "https://localhost:8080/"
        }
      },
      "execution_count": 5,
      "outputs": [
        {
          "output_type": "execute_result",
          "data": {
            "text/plain": [
              "['Mercury', 'Venus', 'Earth', 'Mars', 'Jupiter', 'Saturn', 'Uranus', 'Neptune']"
            ]
          },
          "metadata": {},
          "execution_count": 5
        }
      ]
    },
    {
      "cell_type": "markdown",
      "source": [
        "Se puede tener listas de listas: "
      ],
      "metadata": {
        "id": "R-eLa0zBn-aq"
      }
    },
    {
      "cell_type": "code",
      "source": [
        "hands = [\n",
        "    ['J', 'Q', 'K'],\n",
        "    ['2', '2', '2'],\n",
        "    ['6', 'A', 'K'], # (Comma after the last element is optional)\n",
        "]\n",
        "# (I could also have written this on one line, but it can get hard to read)\n",
        "hands = [['J', 'Q', 'K'], ['2', '2', '2'], ['6', 'A', 'K']]"
      ],
      "metadata": {
        "id": "o_K3y6Z-oBi8"
      },
      "execution_count": 6,
      "outputs": []
    },
    {
      "cell_type": "code",
      "source": [
        "hands[0]"
      ],
      "metadata": {
        "id": "UPMt8oT0o5LM",
        "outputId": "9c21a7aa-f7ef-4882-bde3-e05ea7b98ef0",
        "colab": {
          "base_uri": "https://localhost:8080/"
        }
      },
      "execution_count": 7,
      "outputs": [
        {
          "output_type": "execute_result",
          "data": {
            "text/plain": [
              "['J', 'Q', 'K']"
            ]
          },
          "metadata": {},
          "execution_count": 7
        }
      ]
    },
    {
      "cell_type": "code",
      "source": [
        "hands[0][0:2]"
      ],
      "metadata": {
        "id": "a4w5n93vpAqZ",
        "outputId": "99e6b7f1-4b59-4b8d-94ab-3e8dc570a22d",
        "colab": {
          "base_uri": "https://localhost:8080/"
        }
      },
      "execution_count": 8,
      "outputs": [
        {
          "output_type": "execute_result",
          "data": {
            "text/plain": [
              "['J', 'Q']"
            ]
          },
          "metadata": {},
          "execution_count": 8
        }
      ]
    },
    {
      "cell_type": "code",
      "source": [
        "hands[0][0:2][1]"
      ],
      "metadata": {
        "id": "lJcdat0zpcq6",
        "outputId": "28276ee4-f6ea-414e-c06e-fc41ec9ed0cf",
        "colab": {
          "base_uri": "https://localhost:8080/",
          "height": 35
        }
      },
      "execution_count": 9,
      "outputs": [
        {
          "output_type": "execute_result",
          "data": {
            "text/plain": [
              "'Q'"
            ],
            "application/vnd.google.colaboratory.intrinsic+json": {
              "type": "string"
            }
          },
          "metadata": {},
          "execution_count": 9
        }
      ]
    },
    {
      "cell_type": "code",
      "source": [
        "planets[:3]"
      ],
      "metadata": {
        "id": "vGW29AYlpp6X",
        "outputId": "0e5b6de9-1dc6-4a29-988c-69ef6102d369",
        "colab": {
          "base_uri": "https://localhost:8080/"
        }
      },
      "execution_count": 10,
      "outputs": [
        {
          "output_type": "execute_result",
          "data": {
            "text/plain": [
              "['Mercury', 'Venus', 'Earth']"
            ]
          },
          "metadata": {},
          "execution_count": 10
        }
      ]
    },
    {
      "cell_type": "code",
      "source": [
        "planets[3:]"
      ],
      "metadata": {
        "id": "rqGXelAXpt5G",
        "outputId": "9165f19f-5e80-40e7-afa1-69b182c54ec5",
        "colab": {
          "base_uri": "https://localhost:8080/"
        }
      },
      "execution_count": 11,
      "outputs": [
        {
          "output_type": "execute_result",
          "data": {
            "text/plain": [
              "['Mars', 'Jupiter', 'Saturn', 'Uranus', 'Neptune']"
            ]
          },
          "metadata": {},
          "execution_count": 11
        }
      ]
    },
    {
      "cell_type": "code",
      "source": [
        "# All the planets except the first and last\n",
        "planets[1:-1]"
      ],
      "metadata": {
        "id": "gTdfCixTp8WB",
        "outputId": "ba4c0756-bfcf-4009-e7d1-ca0300849078",
        "colab": {
          "base_uri": "https://localhost:8080/"
        }
      },
      "execution_count": 12,
      "outputs": [
        {
          "output_type": "execute_result",
          "data": {
            "text/plain": [
              "['Venus', 'Earth', 'Mars', 'Jupiter', 'Saturn', 'Uranus']"
            ]
          },
          "metadata": {},
          "execution_count": 12
        }
      ]
    },
    {
      "cell_type": "markdown",
      "source": [
        "#Mutabilidad de las listas\n",
        "\n",
        "Las listas se pueden cambiar (agregar, modificar, eliminar elementos). No todas las colecciones son mutables. Por ejemplo, las tuplas (que son como listas pero con pàrentesis) no son objetos mutabkes. Es decir, una vez se crea una tupla no se pueden cambiar sus elementos."
      ],
      "metadata": {
        "id": "KZMQbVYqqIRY"
      }
    },
    {
      "cell_type": "code",
      "source": [
        "planets[3] = 'Malacandra'\n",
        "planets"
      ],
      "metadata": {
        "id": "5vmNfwRUqg65",
        "outputId": "3ed30bae-4e95-4961-e42d-64af68f15124",
        "colab": {
          "base_uri": "https://localhost:8080/"
        }
      },
      "execution_count": 13,
      "outputs": [
        {
          "output_type": "execute_result",
          "data": {
            "text/plain": [
              "['Mercury',\n",
              " 'Venus',\n",
              " 'Earth',\n",
              " 'Malacandra',\n",
              " 'Jupiter',\n",
              " 'Saturn',\n",
              " 'Uranus',\n",
              " 'Neptune']"
            ]
          },
          "metadata": {},
          "execution_count": 13
        }
      ]
    },
    {
      "cell_type": "code",
      "source": [
        "tplanet= ('Mercurio', 'Venus', 'Tierra')\n",
        "\n",
        "tplanet"
      ],
      "metadata": {
        "id": "lKtN592HqiE3",
        "outputId": "45b3ac1a-6457-498d-a5e3-a6a2777ef9d2",
        "colab": {
          "base_uri": "https://localhost:8080/"
        }
      },
      "execution_count": 14,
      "outputs": [
        {
          "output_type": "execute_result",
          "data": {
            "text/plain": [
              "('Mercurio', 'Venus', 'Tierra')"
            ]
          },
          "metadata": {},
          "execution_count": 14
        }
      ]
    },
    {
      "cell_type": "code",
      "source": [
        "tplanet[0] = 'Neptuno'"
      ],
      "metadata": {
        "id": "YS9X3-g3qsDY",
        "outputId": "67b5368b-8ff3-425c-d9ac-92719df61de9",
        "colab": {
          "base_uri": "https://localhost:8080/",
          "height": 166
        }
      },
      "execution_count": 15,
      "outputs": [
        {
          "output_type": "error",
          "ename": "TypeError",
          "evalue": "ignored",
          "traceback": [
            "\u001b[0;31m---------------------------------------------------------------------------\u001b[0m",
            "\u001b[0;31mTypeError\u001b[0m                                 Traceback (most recent call last)",
            "\u001b[0;32m<ipython-input-15-56abc96c26c9>\u001b[0m in \u001b[0;36m<module>\u001b[0;34m\u001b[0m\n\u001b[0;32m----> 1\u001b[0;31m \u001b[0mtplanet\u001b[0m\u001b[0;34m[\u001b[0m\u001b[0;36m0\u001b[0m\u001b[0;34m]\u001b[0m \u001b[0;34m=\u001b[0m \u001b[0;34m'Neptuno'\u001b[0m\u001b[0;34m\u001b[0m\u001b[0;34m\u001b[0m\u001b[0m\n\u001b[0m",
            "\u001b[0;31mTypeError\u001b[0m: 'tuple' object does not support item assignment"
          ]
        }
      ]
    },
    {
      "cell_type": "markdown",
      "source": [
        "#Funciones para listas"
      ],
      "metadata": {
        "id": "18dg1M_lh0Lp"
      }
    },
    {
      "cell_type": "code",
      "source": [
        "# How many planets are there?\n",
        "len(planets)"
      ],
      "metadata": {
        "id": "A_RwgmB8h1ZZ",
        "outputId": "9c8bf383-ec83-468c-efea-36a7ae0abcec",
        "colab": {
          "base_uri": "https://localhost:8080/"
        }
      },
      "execution_count": 16,
      "outputs": [
        {
          "output_type": "execute_result",
          "data": {
            "text/plain": [
              "8"
            ]
          },
          "metadata": {},
          "execution_count": 16
        }
      ]
    },
    {
      "cell_type": "code",
      "source": [
        "len(\"Yamileth\")"
      ],
      "metadata": {
        "id": "KAv7O9C8iCS9",
        "outputId": "458b8e6b-d16a-4b3d-c8f4-1fd2df088855",
        "colab": {
          "base_uri": "https://localhost:8080/"
        }
      },
      "execution_count": 17,
      "outputs": [
        {
          "output_type": "execute_result",
          "data": {
            "text/plain": [
              "8"
            ]
          },
          "metadata": {},
          "execution_count": 17
        }
      ]
    },
    {
      "cell_type": "code",
      "source": [
        "len(planets[1:4])"
      ],
      "metadata": {
        "id": "zArxSOTLiFer",
        "outputId": "8c33185d-0d95-4a4d-beb0-ac9f407b3488",
        "colab": {
          "base_uri": "https://localhost:8080/"
        }
      },
      "execution_count": 18,
      "outputs": [
        {
          "output_type": "execute_result",
          "data": {
            "text/plain": [
              "3"
            ]
          },
          "metadata": {},
          "execution_count": 18
        }
      ]
    },
    {
      "cell_type": "code",
      "source": [
        "# The planets sorted in alphabetical order\n",
        "sorted(planets)"
      ],
      "metadata": {
        "id": "-uE5uISZiH1n",
        "outputId": "0537a8f9-4801-4c35-ece1-df56d1877209",
        "colab": {
          "base_uri": "https://localhost:8080/"
        }
      },
      "execution_count": 19,
      "outputs": [
        {
          "output_type": "execute_result",
          "data": {
            "text/plain": [
              "['Earth',\n",
              " 'Jupiter',\n",
              " 'Malacandra',\n",
              " 'Mercury',\n",
              " 'Neptune',\n",
              " 'Saturn',\n",
              " 'Uranus',\n",
              " 'Venus']"
            ]
          },
          "metadata": {},
          "execution_count": 19
        }
      ]
    },
    {
      "cell_type": "code",
      "source": [
        "planets"
      ],
      "metadata": {
        "id": "6EWKBSTOiMSR",
        "outputId": "91314e94-2a0f-4fa0-b0d9-4654e983bdf6",
        "colab": {
          "base_uri": "https://localhost:8080/"
        }
      },
      "execution_count": 20,
      "outputs": [
        {
          "output_type": "execute_result",
          "data": {
            "text/plain": [
              "['Mercury',\n",
              " 'Venus',\n",
              " 'Earth',\n",
              " 'Malacandra',\n",
              " 'Jupiter',\n",
              " 'Saturn',\n",
              " 'Uranus',\n",
              " 'Neptune']"
            ]
          },
          "metadata": {},
          "execution_count": 20
        }
      ]
    },
    {
      "cell_type": "code",
      "source": [
        "primes = [2, 3, 5, 7, 14]\n",
        "sum(primes)"
      ],
      "metadata": {
        "id": "ZfqJWMOhiQ9l",
        "outputId": "2a2a68c5-5810-4efd-8d6a-31c0a42973dd",
        "colab": {
          "base_uri": "https://localhost:8080/"
        }
      },
      "execution_count": 23,
      "outputs": [
        {
          "output_type": "execute_result",
          "data": {
            "text/plain": [
              "31"
            ]
          },
          "metadata": {},
          "execution_count": 23
        }
      ]
    },
    {
      "cell_type": "code",
      "source": [
        "max(primes)"
      ],
      "metadata": {
        "id": "Rj9XWbRbiUYu",
        "outputId": "df1e7037-eb76-41bb-e904-5214a4492e83",
        "colab": {
          "base_uri": "https://localhost:8080/"
        }
      },
      "execution_count": 24,
      "outputs": [
        {
          "output_type": "execute_result",
          "data": {
            "text/plain": [
              "14"
            ]
          },
          "metadata": {},
          "execution_count": 24
        }
      ]
    },
    {
      "cell_type": "markdown",
      "source": [
        "#Interludio: objetos\n",
        "Dado que los datos se consideran como objetos, es natural que podamos consultar sus atributos y métodos como tradicionalmente se hace en OOP:"
      ],
      "metadata": {
        "id": "Foup4lI2iY2Y"
      }
    },
    {
      "cell_type": "code",
      "source": [
        "x = 12\n",
        "# x is a real number, so its imaginary part is 0.\n",
        "print(x.imag)\n",
        "# Here's how to make a complex number, in case you've ever been curious:\n",
        "c = 12 + 3j\n",
        "print(c.imag)"
      ],
      "metadata": {
        "id": "mtDPlr0-iZuA",
        "outputId": "35e3153b-c6d1-4b81-abce-58894d192bed",
        "colab": {
          "base_uri": "https://localhost:8080/"
        }
      },
      "execution_count": 25,
      "outputs": [
        {
          "output_type": "stream",
          "name": "stdout",
          "text": [
            "0\n",
            "3.0\n"
          ]
        }
      ]
    },
    {
      "cell_type": "code",
      "source": [
        "x.bit_length"
      ],
      "metadata": {
        "id": "9xMw0U5Lib_r",
        "outputId": "93f71afd-1b83-49fd-89da-4791173ebe07",
        "colab": {
          "base_uri": "https://localhost:8080/"
        }
      },
      "execution_count": 26,
      "outputs": [
        {
          "output_type": "execute_result",
          "data": {
            "text/plain": [
              "<function int.bit_length()>"
            ]
          },
          "metadata": {},
          "execution_count": 26
        }
      ]
    },
    {
      "cell_type": "code",
      "source": [
        "x.bit_length()"
      ],
      "metadata": {
        "id": "YryptXfEigMT",
        "outputId": "64d8f27a-166e-4089-a580-82bc26827173",
        "colab": {
          "base_uri": "https://localhost:8080/"
        }
      },
      "execution_count": 27,
      "outputs": [
        {
          "output_type": "execute_result",
          "data": {
            "text/plain": [
              "4"
            ]
          },
          "metadata": {},
          "execution_count": 27
        }
      ]
    },
    {
      "cell_type": "code",
      "source": [
        "help(x.bit_length)"
      ],
      "metadata": {
        "id": "qYVU5iw_iiaO",
        "outputId": "6cf135c7-272a-4847-c4b9-c7d417ab7741",
        "colab": {
          "base_uri": "https://localhost:8080/"
        }
      },
      "execution_count": 28,
      "outputs": [
        {
          "output_type": "stream",
          "name": "stdout",
          "text": [
            "Help on built-in function bit_length:\n",
            "\n",
            "bit_length() method of builtins.int instance\n",
            "    Number of bits necessary to represent self in binary.\n",
            "    \n",
            "    >>> bin(37)\n",
            "    '0b100101'\n",
            "    >>> (37).bit_length()\n",
            "    6\n",
            "\n"
          ]
        }
      ]
    },
    {
      "cell_type": "markdown",
      "source": [
        "#Métodos de Listas\n",
        "Las listas como objetos tienen muchos métodos para trabajarlos como objetos."
      ],
      "metadata": {
        "id": "IYm6j4VTikuS"
      }
    },
    {
      "cell_type": "code",
      "source": [
        " # Pluto is a planet darn it!\n",
        "planets.append('Pluto')"
      ],
      "metadata": {
        "id": "_qBLaQJEilqv"
      },
      "execution_count": 29,
      "outputs": []
    },
    {
      "cell_type": "code",
      "source": [
        "planets"
      ],
      "metadata": {
        "id": "F8ngCNbMiof3",
        "outputId": "8831366f-d789-44f4-80af-6c0a257e030f",
        "colab": {
          "base_uri": "https://localhost:8080/"
        }
      },
      "execution_count": 30,
      "outputs": [
        {
          "output_type": "execute_result",
          "data": {
            "text/plain": [
              "['Mercury',\n",
              " 'Venus',\n",
              " 'Earth',\n",
              " 'Malacandra',\n",
              " 'Jupiter',\n",
              " 'Saturn',\n",
              " 'Uranus',\n",
              " 'Neptune',\n",
              " 'Pluto']"
            ]
          },
          "metadata": {},
          "execution_count": 30
        }
      ]
    },
    {
      "cell_type": "code",
      "source": [
        "help(planets.append)"
      ],
      "metadata": {
        "id": "8xaz0Je-iqcn",
        "outputId": "3e8bffff-542f-4e51-85ba-1c73ca44137c",
        "colab": {
          "base_uri": "https://localhost:8080/"
        }
      },
      "execution_count": 31,
      "outputs": [
        {
          "output_type": "stream",
          "name": "stdout",
          "text": [
            "Help on built-in function append:\n",
            "\n",
            "append(object, /) method of builtins.list instance\n",
            "    Append object to the end of the list.\n",
            "\n"
          ]
        }
      ]
    },
    {
      "cell_type": "code",
      "source": [
        "planets.pop()"
      ],
      "metadata": {
        "id": "hnhODqbTisSK",
        "outputId": "ff73d8e3-6e99-4a44-ad5f-41ff79670117",
        "colab": {
          "base_uri": "https://localhost:8080/",
          "height": 35
        }
      },
      "execution_count": 32,
      "outputs": [
        {
          "output_type": "execute_result",
          "data": {
            "text/plain": [
              "'Pluto'"
            ],
            "application/vnd.google.colaboratory.intrinsic+json": {
              "type": "string"
            }
          },
          "metadata": {},
          "execution_count": 32
        }
      ]
    },
    {
      "cell_type": "markdown",
      "source": [
        "#Búsquedas en Listas"
      ],
      "metadata": {
        "id": "P8J8zYFJivIq"
      }
    },
    {
      "cell_type": "code",
      "source": [
        "planets.index('Earth')"
      ],
      "metadata": {
        "id": "_ox2bVS4iy5Z",
        "outputId": "9b6c352e-5c31-41f2-ab92-89fe2c333350",
        "colab": {
          "base_uri": "https://localhost:8080/"
        }
      },
      "execution_count": 33,
      "outputs": [
        {
          "output_type": "execute_result",
          "data": {
            "text/plain": [
              "2"
            ]
          },
          "metadata": {},
          "execution_count": 33
        }
      ]
    },
    {
      "cell_type": "code",
      "source": [
        "planets.index('Pluto')"
      ],
      "metadata": {
        "id": "gk6ECF6ei1B_",
        "outputId": "79e62d99-3b32-4348-a99f-65711ae5a142",
        "colab": {
          "base_uri": "https://localhost:8080/",
          "height": 166
        }
      },
      "execution_count": 34,
      "outputs": [
        {
          "output_type": "error",
          "ename": "ValueError",
          "evalue": "ignored",
          "traceback": [
            "\u001b[0;31m---------------------------------------------------------------------------\u001b[0m",
            "\u001b[0;31mValueError\u001b[0m                                Traceback (most recent call last)",
            "\u001b[0;32m<ipython-input-34-3a8584cba91a>\u001b[0m in \u001b[0;36m<module>\u001b[0;34m\u001b[0m\n\u001b[0;32m----> 1\u001b[0;31m \u001b[0mplanets\u001b[0m\u001b[0;34m.\u001b[0m\u001b[0mindex\u001b[0m\u001b[0;34m(\u001b[0m\u001b[0;34m'Pluto'\u001b[0m\u001b[0;34m)\u001b[0m\u001b[0;34m\u001b[0m\u001b[0;34m\u001b[0m\u001b[0m\n\u001b[0m",
            "\u001b[0;31mValueError\u001b[0m: 'Pluto' is not in list"
          ]
        }
      ]
    },
    {
      "cell_type": "code",
      "source": [
        "# Is Earth a planet?\n",
        "\"Earth\" in planets"
      ],
      "metadata": {
        "id": "nRSEUopXi-jb",
        "outputId": "a949f98b-e4fc-46ee-e5d3-02b2e7b45e7d",
        "colab": {
          "base_uri": "https://localhost:8080/"
        }
      },
      "execution_count": 35,
      "outputs": [
        {
          "output_type": "execute_result",
          "data": {
            "text/plain": [
              "True"
            ]
          },
          "metadata": {},
          "execution_count": 35
        }
      ]
    },
    {
      "cell_type": "code",
      "source": [
        "# Is Calbefraques a planet?\n",
        "\"Calbefraques\" in planets"
      ],
      "metadata": {
        "id": "jfkxxOEljBWv",
        "outputId": "44d231b2-16fc-42d6-f04f-9aab312c1ca5",
        "colab": {
          "base_uri": "https://localhost:8080/"
        }
      },
      "execution_count": 36,
      "outputs": [
        {
          "output_type": "execute_result",
          "data": {
            "text/plain": [
              "False"
            ]
          },
          "metadata": {},
          "execution_count": 36
        }
      ]
    },
    {
      "cell_type": "code",
      "source": [
        "help(planets)"
      ],
      "metadata": {
        "id": "TgPg8B0LjDjY",
        "outputId": "5e18bea3-9033-4902-bbba-08b5b0ccce9b",
        "colab": {
          "base_uri": "https://localhost:8080/"
        }
      },
      "execution_count": 37,
      "outputs": [
        {
          "output_type": "stream",
          "name": "stdout",
          "text": [
            "Help on list object:\n",
            "\n",
            "class list(object)\n",
            " |  list(iterable=(), /)\n",
            " |  \n",
            " |  Built-in mutable sequence.\n",
            " |  \n",
            " |  If no argument is given, the constructor creates a new empty list.\n",
            " |  The argument must be an iterable if specified.\n",
            " |  \n",
            " |  Methods defined here:\n",
            " |  \n",
            " |  __add__(self, value, /)\n",
            " |      Return self+value.\n",
            " |  \n",
            " |  __contains__(self, key, /)\n",
            " |      Return key in self.\n",
            " |  \n",
            " |  __delitem__(self, key, /)\n",
            " |      Delete self[key].\n",
            " |  \n",
            " |  __eq__(self, value, /)\n",
            " |      Return self==value.\n",
            " |  \n",
            " |  __ge__(self, value, /)\n",
            " |      Return self>=value.\n",
            " |  \n",
            " |  __getattribute__(self, name, /)\n",
            " |      Return getattr(self, name).\n",
            " |  \n",
            " |  __getitem__(...)\n",
            " |      x.__getitem__(y) <==> x[y]\n",
            " |  \n",
            " |  __gt__(self, value, /)\n",
            " |      Return self>value.\n",
            " |  \n",
            " |  __iadd__(self, value, /)\n",
            " |      Implement self+=value.\n",
            " |  \n",
            " |  __imul__(self, value, /)\n",
            " |      Implement self*=value.\n",
            " |  \n",
            " |  __init__(self, /, *args, **kwargs)\n",
            " |      Initialize self.  See help(type(self)) for accurate signature.\n",
            " |  \n",
            " |  __iter__(self, /)\n",
            " |      Implement iter(self).\n",
            " |  \n",
            " |  __le__(self, value, /)\n",
            " |      Return self<=value.\n",
            " |  \n",
            " |  __len__(self, /)\n",
            " |      Return len(self).\n",
            " |  \n",
            " |  __lt__(self, value, /)\n",
            " |      Return self<value.\n",
            " |  \n",
            " |  __mul__(self, value, /)\n",
            " |      Return self*value.\n",
            " |  \n",
            " |  __ne__(self, value, /)\n",
            " |      Return self!=value.\n",
            " |  \n",
            " |  __repr__(self, /)\n",
            " |      Return repr(self).\n",
            " |  \n",
            " |  __reversed__(self, /)\n",
            " |      Return a reverse iterator over the list.\n",
            " |  \n",
            " |  __rmul__(self, value, /)\n",
            " |      Return value*self.\n",
            " |  \n",
            " |  __setitem__(self, key, value, /)\n",
            " |      Set self[key] to value.\n",
            " |  \n",
            " |  __sizeof__(self, /)\n",
            " |      Return the size of the list in memory, in bytes.\n",
            " |  \n",
            " |  append(self, object, /)\n",
            " |      Append object to the end of the list.\n",
            " |  \n",
            " |  clear(self, /)\n",
            " |      Remove all items from list.\n",
            " |  \n",
            " |  copy(self, /)\n",
            " |      Return a shallow copy of the list.\n",
            " |  \n",
            " |  count(self, value, /)\n",
            " |      Return number of occurrences of value.\n",
            " |  \n",
            " |  extend(self, iterable, /)\n",
            " |      Extend list by appending elements from the iterable.\n",
            " |  \n",
            " |  index(self, value, start=0, stop=9223372036854775807, /)\n",
            " |      Return first index of value.\n",
            " |      \n",
            " |      Raises ValueError if the value is not present.\n",
            " |  \n",
            " |  insert(self, index, object, /)\n",
            " |      Insert object before index.\n",
            " |  \n",
            " |  pop(self, index=-1, /)\n",
            " |      Remove and return item at index (default last).\n",
            " |      \n",
            " |      Raises IndexError if list is empty or index is out of range.\n",
            " |  \n",
            " |  remove(self, value, /)\n",
            " |      Remove first occurrence of value.\n",
            " |      \n",
            " |      Raises ValueError if the value is not present.\n",
            " |  \n",
            " |  reverse(self, /)\n",
            " |      Reverse *IN PLACE*.\n",
            " |  \n",
            " |  sort(self, /, *, key=None, reverse=False)\n",
            " |      Sort the list in ascending order and return None.\n",
            " |      \n",
            " |      The sort is in-place (i.e. the list itself is modified) and stable (i.e. the\n",
            " |      order of two equal elements is maintained).\n",
            " |      \n",
            " |      If a key function is given, apply it once to each list item and sort them,\n",
            " |      ascending or descending, according to their function values.\n",
            " |      \n",
            " |      The reverse flag can be set to sort in descending order.\n",
            " |  \n",
            " |  ----------------------------------------------------------------------\n",
            " |  Static methods defined here:\n",
            " |  \n",
            " |  __new__(*args, **kwargs) from builtins.type\n",
            " |      Create and return a new object.  See help(type) for accurate signature.\n",
            " |  \n",
            " |  ----------------------------------------------------------------------\n",
            " |  Data and other attributes defined here:\n",
            " |  \n",
            " |  __hash__ = None\n",
            "\n"
          ]
        }
      ]
    },
    {
      "cell_type": "markdown",
      "source": [
        "#Tuplas\n",
        "Es un tipo de colección que a diferencia de las listas -que són cambiables, mutables- estas colecciones no lo son. Es decir, una vez que creas la tupla no es posible modificarla."
      ],
      "metadata": {
        "id": "uYzakx2JjIm5"
      }
    },
    {
      "cell_type": "code",
      "source": [
        "t = (1, 2, 3)"
      ],
      "metadata": {
        "id": "1tYCTcemjMJP"
      },
      "execution_count": 39,
      "outputs": []
    },
    {
      "cell_type": "code",
      "source": [
        "t"
      ],
      "metadata": {
        "id": "XXSOOhHGjN4h",
        "outputId": "07276ab3-94eb-4c9d-bc98-2b55ecb04039",
        "colab": {
          "base_uri": "https://localhost:8080/"
        }
      },
      "execution_count": 40,
      "outputs": [
        {
          "output_type": "execute_result",
          "data": {
            "text/plain": [
              "(1, 2, 3)"
            ]
          },
          "metadata": {},
          "execution_count": 40
        }
      ]
    },
    {
      "cell_type": "code",
      "source": [
        "t=1,2,3"
      ],
      "metadata": {
        "id": "hOmFYXlMjQJn"
      },
      "execution_count": 41,
      "outputs": []
    },
    {
      "cell_type": "code",
      "source": [
        "t"
      ],
      "metadata": {
        "id": "Ng2jx00RjQ5m",
        "outputId": "bb3ef5f8-46a6-4aed-fc00-8e991bad3bd8",
        "colab": {
          "base_uri": "https://localhost:8080/"
        }
      },
      "execution_count": 42,
      "outputs": [
        {
          "output_type": "execute_result",
          "data": {
            "text/plain": [
              "(1, 2, 3)"
            ]
          },
          "metadata": {},
          "execution_count": 42
        }
      ]
    },
    {
      "cell_type": "code",
      "source": [
        "t[0] = 100"
      ],
      "metadata": {
        "id": "g2ra3tR-jR72",
        "outputId": "a7334cc6-3a26-4b0f-eee0-06dd6d414b67",
        "colab": {
          "base_uri": "https://localhost:8080/",
          "height": 166
        }
      },
      "execution_count": 43,
      "outputs": [
        {
          "output_type": "error",
          "ename": "TypeError",
          "evalue": "ignored",
          "traceback": [
            "\u001b[0;31m---------------------------------------------------------------------------\u001b[0m",
            "\u001b[0;31mTypeError\u001b[0m                                 Traceback (most recent call last)",
            "\u001b[0;32m<ipython-input-43-e6cf7836e708>\u001b[0m in \u001b[0;36m<module>\u001b[0;34m\u001b[0m\n\u001b[0;32m----> 1\u001b[0;31m \u001b[0mt\u001b[0m\u001b[0;34m[\u001b[0m\u001b[0;36m0\u001b[0m\u001b[0;34m]\u001b[0m \u001b[0;34m=\u001b[0m \u001b[0;36m100\u001b[0m\u001b[0;34m\u001b[0m\u001b[0;34m\u001b[0m\u001b[0m\n\u001b[0m",
            "\u001b[0;31mTypeError\u001b[0m: 'tuple' object does not support item assignment"
          ]
        }
      ]
    },
    {
      "cell_type": "code",
      "source": [
        "x = 0.125\n",
        "x.as_integer_ratio()"
      ],
      "metadata": {
        "id": "P3dxIlhyjV8g",
        "outputId": "c1e9a1d3-5dc7-4b58-f982-7a67c06fbda6",
        "colab": {
          "base_uri": "https://localhost:8080/"
        }
      },
      "execution_count": 44,
      "outputs": [
        {
          "output_type": "execute_result",
          "data": {
            "text/plain": [
              "(1, 8)"
            ]
          },
          "metadata": {},
          "execution_count": 44
        }
      ]
    },
    {
      "cell_type": "code",
      "source": [
        "numerator, denominator = x.as_integer_ratio()\n",
        "print(numerator / denominator)"
      ],
      "metadata": {
        "id": "BJvImdYujYDk",
        "outputId": "b3b4a3f3-63c6-4c0e-9129-97d6300087bf",
        "colab": {
          "base_uri": "https://localhost:8080/"
        }
      },
      "execution_count": 45,
      "outputs": [
        {
          "output_type": "stream",
          "name": "stdout",
          "text": [
            "0.125\n"
          ]
        }
      ]
    },
    {
      "cell_type": "code",
      "source": [
        "a = 1\n",
        "b = 0\n",
        "a, b = b, a\n",
        "print(a, b)"
      ],
      "metadata": {
        "id": "0uX2d-KzjZ-0",
        "outputId": "0aaf45e5-906a-4f47-c893-a044b10442c4",
        "colab": {
          "base_uri": "https://localhost:8080/"
        }
      },
      "execution_count": 46,
      "outputs": [
        {
          "output_type": "stream",
          "name": "stdout",
          "text": [
            "0 1\n"
          ]
        }
      ]
    }
  ],
  "metadata": {
    "colab": {
      "provenance": [],
      "include_colab_link": true
    },
    "kernelspec": {
      "display_name": "Python 3.10.7 64-bit",
      "language": "python",
      "name": "python3"
    },
    "language_info": {
      "codemirror_mode": {
        "name": "ipython",
        "version": 3
      },
      "file_extension": ".py",
      "mimetype": "text/x-python",
      "name": "python",
      "nbconvert_exporter": "python",
      "pygments_lexer": "ipython3",
      "version": "3.10.7"
    },
    "orig_nbformat": 4,
    "vscode": {
      "interpreter": {
        "hash": "eb4a0ac80907d7f44e1a5e88d3d3381b33e3dbedd3a24d113e876f30a0c46bee"
      }
    }
  },
  "nbformat": 4,
  "nbformat_minor": 0
}